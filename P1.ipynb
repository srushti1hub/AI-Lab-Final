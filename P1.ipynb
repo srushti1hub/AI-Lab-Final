{
  "nbformat": 4,
  "nbformat_minor": 0,
  "metadata": {
    "colab": {
      "provenance": []
    },
    "kernelspec": {
      "name": "python3",
      "display_name": "Python 3"
    },
    "language_info": {
      "name": "python"
    }
  },
  "cells": [
    {
      "cell_type": "code",
      "source": [
        "import numpy as np\n",
        "\n",
        "# Define a Markov Decision Process for a quiz game\n",
        "class QuizMDP:\n",
        "    def __init__(self, rewards, probabilities):\n",
        "        # Rewards for each question\n",
        "        self.q_rewards = rewards\n",
        "        # Probabilities of answering a question correctly\n",
        "        self.q_probs = probabilities\n",
        "        # Total number of questions\n",
        "        self.num_questions = len(rewards)\n",
        "        # Total number of states (questions + end state)\n",
        "        self.num_states = self.num_questions + 1\n",
        "        # Starting state\n",
        "        self.start_state = 0\n",
        "        # End state\n",
        "        self.end_state = self.num_states - 1\n",
        "\n",
        "    # Get the probabilities of transitioning to the next state\n",
        "    def get_transition_probs(self, state, action):\n",
        "        if state == self.end_state:\n",
        "            # If already in the end state, stay there with probability 1\n",
        "            return [(self.end_state, 1.0)]\n",
        "        elif action == 1:\n",
        "            # If answering a question, transition to the next state with probability q_probs[state]\n",
        "            # or go to the end state with probability 1 - q_probs[state]\n",
        "            return [(state + 1, self.q_probs[state]), (self.end_state, 1 - self.q_probs[state])]\n",
        "        else:\n",
        "            # If passing, go directly to the end state with probability 1\n",
        "            return [(self.end_state, 1.0)]\n",
        "\n",
        "    # Get the rewards for transitioning to the next state\n",
        "    def get_rewards(self, state, action, next_state):\n",
        "        if next_state == self.end_state:\n",
        "            # If already in the end state, get no reward\n",
        "            return 0\n",
        "        elif action == 1:\n",
        "            # If answering a question, get the reward for the current state\n",
        "            return self.q_rewards[state]\n",
        "        else:\n",
        "            # If passing, get no reward\n",
        "            return 0\n",
        "\n",
        "# Use value iteration to find the optimal policy\n",
        "def find_optimal_policy(quiz, gamma=1.0, theta=1e-6):\n",
        "    # Initialize the value function to zero\n",
        "    V = np.zeros(quiz.num_states)\n",
        "\n",
        "    while True:\n",
        "        # Initialize the change in V to zero\n",
        "        delta = 0\n",
        "\n",
        "        # Update the value function for each state\n",
        "        for s in range(quiz.num_states):\n",
        "            v = V[s]\n",
        "            # Get the maximum expected value for each action\n",
        "            V[s] = max([sum([p * (quiz.get_rewards(s, a, next_s) + gamma * V[next_s])\n",
        "                             for (next_s, p) in quiz.get_transition_probs(s, a)])\n",
        "                        for a in range(2)])\n",
        "            # Update delta to keep track of the largest change in V\n",
        "            delta = max(delta, abs(v - V[s]))\n",
        "\n",
        "        # Check for convergence\n",
        "        if delta < theta:\n",
        "            break\n",
        "\n",
        "    return V"
      ],
      "metadata": {
        "id": "3j6XjtL_qhwu"
      },
      "execution_count": 2,
      "outputs": []
    }
  ]
}